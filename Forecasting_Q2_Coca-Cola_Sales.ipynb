{
 "cells": [
  {
   "cell_type": "markdown",
   "metadata": {
    "id": "qhP7-JFcE9Hr"
   },
   "source": [
    "**Forecast the CocaCola prices data set. Prepare a document for each model explaining how many dummy variables you have created and RMSE value for each model. Finally which model you will use for Forecasting.**"
   ]
  },
  {
   "cell_type": "markdown",
   "metadata": {
    "id": "J8mw51EbE5zr"
   },
   "source": [
    "## 1. Importing necessary libraries"
   ]
  },
  {
   "cell_type": "code",
   "execution_count": 1,
   "metadata": {
    "colab": {
     "base_uri": "https://localhost:8080/"
    },
    "executionInfo": {
     "elapsed": 351,
     "status": "ok",
     "timestamp": 1651332472534,
     "user": {
      "displayName": "Mubashra Ali",
      "userId": "01834040292462078993"
     },
     "user_tz": -240
    },
    "id": "pkPmifrykore",
    "outputId": "96cd9117-90ef-4ac1-ea1a-75bb6df4a335"
   },
   "outputs": [],
   "source": [
    "import pandas as pd\n",
    "import numpy as np\n",
    "import matplotlib.pyplot as plt \n",
    "%matplotlib inline\n",
    "import seaborn as sns\n",
    "import statsmodels.formula.api as smf\n",
    "import statsmodels.api as sm\n",
    "from statsmodels.tsa.seasonal import seasonal_decompose\n",
    "from statsmodels.tsa.holtwinters import SimpleExpSmoothing # SES\n",
    "from statsmodels.tsa.holtwinters import Holt # Holts Exponential Smoothing\n",
    "from statsmodels.tsa.holtwinters import ExponentialSmoothing # \n",
    "import statsmodels.graphics.tsaplots as tsa_plots\n",
    "import statsmodels.tsa.statespace as tm_models\n",
    "from datetime import datetime,time\n",
    "import warnings\n",
    "warnings.filterwarnings('ignore')"
   ]
  },
  {
   "cell_type": "markdown",
   "metadata": {
    "id": "VgGeIEGCFARK"
   },
   "source": [
    "## 2. Importing data"
   ]
  },
  {
   "cell_type": "code",
   "execution_count": 2,
   "metadata": {
    "id": "VVC91JWUkss1"
   },
   "outputs": [
    {
     "data": {
      "text/html": [
       "<div>\n",
       "<style scoped>\n",
       "    .dataframe tbody tr th:only-of-type {\n",
       "        vertical-align: middle;\n",
       "    }\n",
       "\n",
       "    .dataframe tbody tr th {\n",
       "        vertical-align: top;\n",
       "    }\n",
       "\n",
       "    .dataframe thead th {\n",
       "        text-align: right;\n",
       "    }\n",
       "</style>\n",
       "<table border=\"1\" class=\"dataframe\">\n",
       "  <thead>\n",
       "    <tr style=\"text-align: right;\">\n",
       "      <th></th>\n",
       "      <th>Quarter</th>\n",
       "      <th>Sales</th>\n",
       "    </tr>\n",
       "  </thead>\n",
       "  <tbody>\n",
       "    <tr>\n",
       "      <th>0</th>\n",
       "      <td>Q1_86</td>\n",
       "      <td>1734.827000</td>\n",
       "    </tr>\n",
       "    <tr>\n",
       "      <th>1</th>\n",
       "      <td>Q2_86</td>\n",
       "      <td>2244.960999</td>\n",
       "    </tr>\n",
       "    <tr>\n",
       "      <th>2</th>\n",
       "      <td>Q3_86</td>\n",
       "      <td>2533.804993</td>\n",
       "    </tr>\n",
       "    <tr>\n",
       "      <th>3</th>\n",
       "      <td>Q4_86</td>\n",
       "      <td>2154.962997</td>\n",
       "    </tr>\n",
       "    <tr>\n",
       "      <th>4</th>\n",
       "      <td>Q1_87</td>\n",
       "      <td>1547.818996</td>\n",
       "    </tr>\n",
       "  </tbody>\n",
       "</table>\n",
       "</div>"
      ],
      "text/plain": [
       "  Quarter        Sales\n",
       "0   Q1_86  1734.827000\n",
       "1   Q2_86  2244.960999\n",
       "2   Q3_86  2533.804993\n",
       "3   Q4_86  2154.962997\n",
       "4   Q1_87  1547.818996"
      ]
     },
     "execution_count": 2,
     "metadata": {},
     "output_type": "execute_result"
    }
   ],
   "source": [
    "cocacola = pd.read_excel(\"CocaCola_Sales_Rawdata.xlsx\")\n",
    "cocacola.head()"
   ]
  },
  {
   "cell_type": "markdown",
   "metadata": {
    "id": "zrRBuj66X8vM"
   },
   "source": [
    "## 3. Data Preparation"
   ]
  },
  {
   "cell_type": "code",
   "execution_count": 3,
   "metadata": {
    "id": "zj6aa2oMksqR"
   },
   "outputs": [
    {
     "data": {
      "text/plain": [
       "'Q1'"
      ]
     },
     "execution_count": 3,
     "metadata": {},
     "output_type": "execute_result"
    }
   ],
   "source": [
    "quarter = ['Q1','Q2','Q3','Q4']\n",
    "n = cocacola['Quarter'][0]\n",
    "n[0:2]"
   ]
  },
  {
   "cell_type": "code",
   "execution_count": 4,
   "metadata": {
    "id": "e71T1qPzksnp"
   },
   "outputs": [],
   "source": [
    "cocacola['quarter']=0\n",
    "\n",
    "for i in range(42):\n",
    "    n=cocacola['Quarter'][i]\n",
    "    cocacola['quarter'][i]=n[0:2]"
   ]
  },
  {
   "cell_type": "code",
   "execution_count": 5,
   "metadata": {
    "id": "CStHkn90ksjo"
   },
   "outputs": [],
   "source": [
    "dummy = pd.DataFrame(pd.get_dummies(cocacola['quarter']))"
   ]
  },
  {
   "cell_type": "code",
   "execution_count": 6,
   "metadata": {
    "id": "putia2_pkshs"
   },
   "outputs": [],
   "source": [
    "coca = pd.concat((cocacola,dummy),axis=1)\n",
    "t = np.arange(1,43)\n",
    "coca['t'] = t\n",
    "coca['t_square'] = coca['t']*coca['t']"
   ]
  },
  {
   "cell_type": "markdown",
   "metadata": {
    "id": "CsumWKGzZuOr"
   },
   "source": [
    "**To calculate natural log of Sales**"
   ]
  },
  {
   "cell_type": "code",
   "execution_count": 7,
   "metadata": {
    "id": "bNPvBlbKksez"
   },
   "outputs": [],
   "source": [
    "log_Sales = np.log(coca['Sales'])   \n",
    "coca['log_Sales'] = log_Sales"
   ]
  },
  {
   "cell_type": "markdown",
   "metadata": {
    "id": "aCXz9dxuEMeT"
   },
   "source": [
    "***Train-test split***"
   ]
  },
  {
   "cell_type": "code",
   "execution_count": 8,
   "metadata": {
    "id": "zuI3iIchk90p"
   },
   "outputs": [],
   "source": [
    "train = coca.head(30) \n",
    "test = coca.tail(10)"
   ]
  },
  {
   "cell_type": "markdown",
   "metadata": {
    "id": "HsOBNDhcFsfr"
   },
   "source": [
    "## 4. Data Visualization"
   ]
  },
  {
   "cell_type": "code",
   "execution_count": 9,
   "metadata": {
    "id": "_Ft4PKV8FrmZ"
   },
   "outputs": [
    {
     "data": {
      "image/png": "[encoded data removed]",
      "text/plain": [
       "<Figure size 432x288 with 1 Axes>"
      ]
     },
     "metadata": {
      "needs_background": "light"
     },
     "output_type": "display_data"
    }
   ],
   "source": [
    "coca.Sales.plot()\n",
    "plt.show()"
   ]
  },
  {
   "cell_type": "markdown",
   "metadata": {
    "id": "HsOBNDhcFsfr"
   },
   "source": [
    "## 5. Model Building, Model Training and Model Testing"
   ]
  },
  {
   "cell_type": "markdown",
   "metadata": {
    "id": "mX9bbOW3g2x9"
   },
   "source": [
    "#### **1. Linear Model**"
   ]
  },
  {
   "cell_type": "code",
   "execution_count": 10,
   "metadata": {
    "id": "Zk1MmuINk9we"
   },
   "outputs": [],
   "source": [
    "linear = smf.ols('Sales~t',data=train).fit()\n",
    "predlin = pd.Series(linear.predict(pd.DataFrame(test['t'])))"
   ]
  },
  {
   "cell_type": "code",
   "execution_count": 11,
   "metadata": {
    "id": "vit5OONQGFoC"
   },
   "outputs": [
    {
     "data": {
      "text/plain": [
       "633.5699198697733"
      ]
     },
     "execution_count": 11,
     "metadata": {},
     "output_type": "execute_result"
    }
   ],
   "source": [
    "rmselin = np.sqrt((np.mean(np.array(test['Sales'])-np.array(predlin))**2))\n",
    "rmselin"
   ]
  },
  {
   "cell_type": "markdown",
   "metadata": {
    "id": "g2KOrBJGg8pL"
   },
   "source": [
    "#### **2. Quadratic model**"
   ]
  },
  {
   "cell_type": "code",
   "execution_count": 12,
   "metadata": {
    "id": "XD9Z9F7NlTMc"
   },
   "outputs": [],
   "source": [
    "quad = smf.ols('Sales~t+t_square',data=train).fit()\n",
    "predquad = pd.Series(quad.predict(pd.DataFrame(test[['t','t_square']])))"
   ]
  },
  {
   "cell_type": "code",
   "execution_count": 13,
   "metadata": {
    "id": "Fg-8Mwy9GEdS"
   },
   "outputs": [
    {
     "data": {
      "text/plain": [
       "680.2527854192869"
      ]
     },
     "execution_count": 13,
     "metadata": {},
     "output_type": "execute_result"
    }
   ],
   "source": [
    "rmsequad = np.sqrt(np.mean((np.array(test['Sales'])-np.array(predquad))**2))\n",
    "rmsequad"
   ]
  },
  {
   "cell_type": "markdown",
   "metadata": {
    "id": "4a-UgaVShXnF"
   },
   "source": [
    "#### **3. Exponential model**"
   ]
  },
  {
   "cell_type": "code",
   "execution_count": 14,
   "metadata": {
    "id": "yaoNbpwOk9ty"
   },
   "outputs": [
    {
     "data": {
      "text/plain": [
       "32    8.179811\n",
       "33    8.201488\n",
       "34    8.223165\n",
       "35    8.244842\n",
       "36    8.266519\n",
       "37    8.288196\n",
       "38    8.309873\n",
       "39    8.331550\n",
       "40    8.353227\n",
       "41    8.374903\n",
       "dtype: float64"
      ]
     },
     "execution_count": 14,
     "metadata": {},
     "output_type": "execute_result"
    }
   ],
   "source": [
    "expo = smf.ols('log_Sales~t',data=train).fit()\n",
    "predexp = pd.Series(expo.predict(pd.DataFrame(test['t'])))\n",
    "predexp"
   ]
  },
  {
   "cell_type": "code",
   "execution_count": 15,
   "metadata": {
    "id": "oN_HegulGBfh"
   },
   "outputs": [
    {
     "data": {
      "text/plain": [
       "600.089369373966"
      ]
     },
     "execution_count": 15,
     "metadata": {},
     "output_type": "execute_result"
    }
   ],
   "source": [
    "rmseexpo = np.sqrt(np.mean((np.array(test['Sales'])-np.array(np.exp(predexp)))**2))\n",
    "rmseexpo"
   ]
  },
  {
   "cell_type": "markdown",
   "metadata": {
    "id": "ur_2kIFXhapL"
   },
   "source": [
    "#### **4. Additive Seasonality**"
   ]
  },
  {
   "cell_type": "code",
   "execution_count": 16,
   "metadata": {
    "id": "YfJ_WQ2Tk9qi"
   },
   "outputs": [
    {
     "data": {
      "text/plain": [
       "32    2189.943999\n",
       "33    2777.750122\n",
       "34    2622.272569\n",
       "35    2432.339711\n",
       "36    2189.943999\n",
       "37    2777.750122\n",
       "38    2622.272569\n",
       "39    2432.339711\n",
       "40    2189.943999\n",
       "41    2777.750122\n",
       "dtype: float64"
      ]
     },
     "execution_count": 16,
     "metadata": {},
     "output_type": "execute_result"
    }
   ],
   "source": [
    "additive = smf.ols('Sales~ Q1+Q2+Q3+Q4',data=train).fit()\n",
    "predadd = pd.Series(additive.predict(pd.DataFrame(test[['Q1','Q2','Q3','Q4']])))\n",
    "predadd"
   ]
  },
  {
   "cell_type": "code",
   "execution_count": 17,
   "metadata": {
    "id": "sJbUMu_zF-Vm"
   },
   "outputs": [
    {
     "data": {
      "text/plain": [
       "1898.3504804157517"
      ]
     },
     "execution_count": 17,
     "metadata": {},
     "output_type": "execute_result"
    }
   ],
   "source": [
    "rmseadd = np.sqrt(np.mean((np.array(test['Sales'])-np.array(predadd))**2))\n",
    "rmseadd"
   ]
  },
  {
   "cell_type": "markdown",
   "metadata": {
    "id": "KYQm3jDphiT_"
   },
   "source": [
    "##### 4. a) Additive Seasonality - With Linear trend"
   ]
  },
  {
   "cell_type": "code",
   "execution_count": 18,
   "metadata": {
    "id": "SpZXpLoEk9o_"
   },
   "outputs": [
    {
     "data": {
      "text/plain": [
       "32    3182.843302\n",
       "33    3770.649425\n",
       "34    3725.494016\n",
       "35    3535.561158\n",
       "36    3403.487591\n",
       "37    3991.293714\n",
       "38    3946.138306\n",
       "39    3756.205448\n",
       "40    3624.131881\n",
       "41    4211.938004\n",
       "dtype: float64"
      ]
     },
     "execution_count": 18,
     "metadata": {},
     "output_type": "execute_result"
    }
   ],
   "source": [
    "addlinear = smf.ols('Sales~t+Q1+Q2+Q3+Q4',data=train).fit()\n",
    "predaddlinear = pd.Series(addlinear.predict(pd.DataFrame(test[['t','Q1','Q2','Q3','Q4']])))\n",
    "predaddlinear"
   ]
  },
  {
   "cell_type": "code",
   "execution_count": 19,
   "metadata": {
    "id": "7GDzcEXwmmRc"
   },
   "outputs": [
    {
     "data": {
      "text/plain": [
       "697.48329711454"
      ]
     },
     "execution_count": 19,
     "metadata": {},
     "output_type": "execute_result"
    }
   ],
   "source": [
    "rmseaddlinear = np.sqrt(np.mean((np.array(test['Sales'])-np.array(predaddlinear))**2))\n",
    "rmseaddlinear"
   ]
  },
  {
   "cell_type": "markdown",
   "metadata": {
    "id": "tX-HeZV2hwPn"
   },
   "source": [
    "##### 4. b) Additive Seasonality With Quadratic trend"
   ]
  },
  {
   "cell_type": "code",
   "execution_count": 20,
   "metadata": {
    "id": "UqEThjALk9iP"
   },
   "outputs": [],
   "source": [
    "addquad = smf.ols('Sales~t+t_square+Q1+Q2+Q3+Q4',data=train).fit()\n",
    "predaddquad = pd.Series(addquad.predict(pd.DataFrame(test[['t','t_square','Q1','Q2','Q3','Q4']])))"
   ]
  },
  {
   "cell_type": "code",
   "execution_count": 21,
   "metadata": {
    "id": "_lC6GsKJGJ8K"
   },
   "outputs": [
    {
     "data": {
      "text/plain": [
       "607.852072018353"
      ]
     },
     "execution_count": 21,
     "metadata": {},
     "output_type": "execute_result"
    }
   ],
   "source": [
    "rmseaddquad = np.sqrt(np.mean((np.array(test['Sales'])-np.array(predaddquad))**2))\n",
    "rmseaddquad"
   ]
  },
  {
   "cell_type": "markdown",
   "metadata": {
    "id": "ctNSqtzYiBXl"
   },
   "source": [
    "#### **5. Multiplicative Seasonality**"
   ]
  },
  {
   "cell_type": "code",
   "execution_count": 22,
   "metadata": {
    "id": "7FaFKYt_kscu"
   },
   "outputs": [],
   "source": [
    "mulsea = smf.ols('log_Sales~Q1+Q2+Q3+Q4',data=train).fit()\n",
    "predmul = pd.Series(mulsea.predict(pd.DataFrame(test[['Q1','Q2','Q3','Q4']])))"
   ]
  },
  {
   "cell_type": "code",
   "execution_count": 23,
   "metadata": {
    "id": "NmKN9XgUGSOy"
   },
   "outputs": [
    {
     "data": {
      "text/plain": [
       "1951.0349399697664"
      ]
     },
     "execution_count": 23,
     "metadata": {},
     "output_type": "execute_result"
    }
   ],
   "source": [
    "rmsemul = np.sqrt(np.mean((np.array(test['Sales'])-np.array(np.exp(predmul)))**2))\n",
    "rmsemul"
   ]
  },
  {
   "cell_type": "markdown",
   "metadata": {
    "id": "IibXmpJmiHc_"
   },
   "source": [
    "##### 5. a) Multiplicative Seasonality With Linear trend"
   ]
  },
  {
   "cell_type": "code",
   "execution_count": 24,
   "metadata": {
    "id": "XZFACFRlksZX"
   },
   "outputs": [],
   "source": [
    "mullin = smf.ols('log_Sales~t+Q1+Q2+Q3+Q4',data=train).fit()\n",
    "predmullin = pd.Series(mullin.predict(pd.DataFrame(test[['t','Q1','Q2','Q3','Q4']])))"
   ]
  },
  {
   "cell_type": "code",
   "execution_count": 25,
   "metadata": {
    "id": "ORBlJfXGGXER"
   },
   "outputs": [
    {
     "data": {
      "text/plain": [
       "449.4035489163238"
      ]
     },
     "execution_count": 25,
     "metadata": {},
     "output_type": "execute_result"
    }
   ],
   "source": [
    "rmsemulin = np.sqrt(np.mean((np.array(test['Sales'])-np.array(np.exp(predmullin)))**2))\n",
    "rmsemulin"
   ]
  },
  {
   "cell_type": "markdown",
   "metadata": {
    "id": "nsM6hYLGiUCN"
   },
   "source": [
    "##### 5. b) Multiplicative Seasonality With Quadratic trend"
   ]
  },
  {
   "cell_type": "code",
   "execution_count": 26,
   "metadata": {
    "id": "OoK3hg92ksXl"
   },
   "outputs": [],
   "source": [
    "mul_quad = smf.ols('log_Sales~t+t_square+Q1+Q2+Q3+Q4',data=train).fit()\n",
    "pred_mul_quad = pd.Series(mul_quad.predict(test[['t','t_square','Q1','Q2','Q3','Q4']]))"
   ]
  },
  {
   "cell_type": "code",
   "execution_count": 27,
   "metadata": {
    "id": "fPEeG1M8Ganp"
   },
   "outputs": [
    {
     "data": {
      "text/plain": [
       "1695.6838657179153"
      ]
     },
     "execution_count": 27,
     "metadata": {},
     "output_type": "execute_result"
    }
   ],
   "source": [
    "rmse_mul_quad = np.sqrt(np.mean((np.array(test['Sales'])-np.array(np.exp(pred_mul_quad)))**2))\n",
    "rmse_mul_quad"
   ]
  },
  {
   "cell_type": "markdown",
   "metadata": {
    "id": "MfZE94Klieai"
   },
   "source": [
    "### 5. Comparing different Root Mean Squared Error values (RMSE)"
   ]
  },
  {
   "cell_type": "code",
   "execution_count": 28,
   "metadata": {
    "id": "JXe1H0AAnaWK"
   },
   "outputs": [
    {
     "data": {
      "text/plain": [
       "{'Model': 0    rmse_mul_quad\n",
       " 1          rmseadd\n",
       " 2    rmseaddlinear\n",
       " 3      rmseaddquad\n",
       " 4         rmseexpo\n",
       " 5          rmselin\n",
       " 6          rmsemul\n",
       " 7        rmsemulin\n",
       " 8         rmsequad\n",
       " dtype: object,\n",
       " 'Values': 0    1695.683866\n",
       " 1    1898.350480\n",
       " 2     697.483297\n",
       " 3     607.852072\n",
       " 4     600.089369\n",
       " 5     633.569920\n",
       " 6    1951.034940\n",
       " 7     449.403549\n",
       " 8     680.252785\n",
       " dtype: float64}"
      ]
     },
     "execution_count": 28,
     "metadata": {},
     "output_type": "execute_result"
    }
   ],
   "source": [
    "data = {'Model':pd.Series(['rmse_mul_quad','rmseadd','rmseaddlinear','rmseaddquad','rmseexpo','rmselin','rmsemul','rmsemulin','rmsequad']),'Values':pd.Series([rmse_mul_quad,rmseadd,rmseaddlinear,rmseaddquad,rmseexpo,rmselin,rmsemul,rmsemulin,rmsequad])}\n",
    "data"
   ]
  },
  {
   "cell_type": "code",
   "execution_count": 29,
   "metadata": {
    "id": "WAIr-M62nmnL",
    "scrolled": true
   },
   "outputs": [
    {
     "name": "stdout",
     "output_type": "stream",
     "text": [
      "R-Mean Squared values :             Model       Values\n",
      "0  rmse_mul_quad  1695.683866\n",
      "1        rmseadd  1898.350480\n",
      "2  rmseaddlinear   697.483297\n",
      "3    rmseaddquad   607.852072\n",
      "4       rmseexpo   600.089369\n",
      "5        rmselin   633.569920\n",
      "6        rmsemul  1951.034940\n",
      "7      rmsemulin   449.403549\n",
      "8       rmsequad   680.252785\n"
     ]
    }
   ],
   "source": [
    "print(\"R-Mean Squared values : \", pd.DataFrame(data))"
   ]
  },
  {
   "cell_type": "markdown",
   "metadata": {
    "id": "YnIs2OP2W-Hd"
   },
   "source": [
    "## 6. Plot the Sales data to understand the trend"
   ]
  },
  {
   "cell_type": "markdown",
   "metadata": {
    "id": "YnIs2OP2W-Hd"
   },
   "source": [
    "**Moving average for the time series to understand better about the trend character**"
   ]
  },
  {
   "cell_type": "code",
   "execution_count": 30,
   "metadata": {
    "id": "YvmXZjBeacdC"
   },
   "outputs": [
    {
     "data": {
      "image/png": "[encoded data removed]",
      "text/plain": [
       "<Figure size 432x288 with 1 Axes>"
      ]
     },
     "metadata": {
      "needs_background": "light"
     },
     "output_type": "display_data"
    }
   ],
   "source": [
    "cocacola.Sales.plot(label=\"org\")\n",
    "for i in range(2,10,2):\n",
    "    cocacola[\"Sales\"].rolling(i).mean().plot(label=str(i))\n",
    "plt.legend(loc=3)\n",
    "plt.show()"
   ]
  },
  {
   "cell_type": "markdown",
   "metadata": {
    "id": "hWutM5yNW8QL"
   },
   "source": [
    "## 7. Time series decomposition plot"
   ]
  },
  {
   "cell_type": "code",
   "execution_count": 31,
   "metadata": {
    "id": "wY8VHVYqayaO"
   },
   "outputs": [
    {
     "data": {
      "image/png": "[encoded data removed]",
      "text/plain": [
       "<Figure size 432x288 with 4 Axes>"
      ]
     },
     "execution_count": 31,
     "metadata": {},
     "output_type": "execute_result"
    },
    {
     "data": {
      "image/png": "[encoded data removed]",
      "text/plain": [
       "<Figure size 432x288 with 4 Axes>"
      ]
     },
     "metadata": {
      "needs_background": "light"
     },
     "output_type": "display_data"
    }
   ],
   "source": [
    "decompose_ts_add = seasonal_decompose(cocacola.Sales,period =12)\n",
    "decompose_ts_add.plot()"
   ]
  },
  {
   "cell_type": "markdown",
   "metadata": {
    "id": "NCLc6f9OWxxo"
   },
   "source": [
    "## 8. ACF plots and PACF plots on Original data sets"
   ]
  },
  {
   "cell_type": "code",
   "execution_count": 32,
   "metadata": {
    "id": "kPr9I9xYayVc"
   },
   "outputs": [
    {
     "data": {
      "image/png": "[encoded data removed]",
      "text/plain": [
       "<Figure size 432x288 with 1 Axes>"
      ]
     },
     "execution_count": 32,
     "metadata": {},
     "output_type": "execute_result"
    },
    {
     "data": {
      "image/png": "[encoded data removed]",
      "text/plain": [
       "<Figure size 432x288 with 1 Axes>"
      ]
     },
     "metadata": {
      "needs_background": "light"
     },
     "output_type": "display_data"
    },
    {
     "data": {
      "image/png": "[encoded data removed]",
      "text/plain": [
       "<Figure size 432x288 with 1 Axes>"
      ]
     },
     "metadata": {
      "needs_background": "light"
     },
     "output_type": "display_data"
    }
   ],
   "source": [
    "tsa_plots.plot_acf(cocacola.Sales,lags=10)\n",
    "tsa_plots.plot_pacf(cocacola.Sales)"
   ]
  },
  {
   "cell_type": "markdown",
   "metadata": {
    "id": "i1O1kz8aWsDx"
   },
   "source": [
    "## 9. Creating a function to calculate the MAPE value for test data"
   ]
  },
  {
   "cell_type": "code",
   "execution_count": 33,
   "metadata": {
    "id": "Ll7R94gNbBfh"
   },
   "outputs": [],
   "source": [
    " def MAPE(pred,org):\n",
    "    temp = np.abs((pred-org))*100/org\n",
    "    return np.mean(temp)"
   ]
  },
  {
   "cell_type": "markdown",
   "metadata": {
    "id": "i1O1kz8aWsDx"
   },
   "source": [
    "## 10. Model selection / Model Building"
   ]
  },
  {
   "cell_type": "markdown",
   "metadata": {
    "id": "MJ0eXaYwWnqF"
   },
   "source": [
    "### 1. Simple Exponential Method"
   ]
  },
  {
   "cell_type": "code",
   "execution_count": 34,
   "metadata": {
    "id": "awibrpH5bBdv"
   },
   "outputs": [
    {
     "name": "stdout",
     "output_type": "stream",
     "text": [
      "Mean Absolute % error by Simple Exponential method :  10.715\n"
     ]
    }
   ],
   "source": [
    "ses_model = SimpleExpSmoothing(cocacola[\"Sales\"]).fit()\n",
    "pred_ses = ses_model.predict(start = test.index[0],end = test.index[-1])\n",
    "print(\"Mean Absolute % error by Simple Exponential method : \",round(MAPE(pred_ses,test.Sales),3))"
   ]
  },
  {
   "cell_type": "markdown",
   "metadata": {},
   "source": [
    "***Conclusion:-***\n",
    "- The mean absolute percentage error (MAPE) is 9.701. \n",
    "- It measures the prediction accuracy of a forecasting method."
   ]
  },
  {
   "cell_type": "markdown",
   "metadata": {
    "id": "IWzfFKYcWb1q"
   },
   "source": [
    "### 2. Holt-Winter's Method for Exponential Smoothing"
   ]
  },
  {
   "cell_type": "code",
   "execution_count": 35,
   "metadata": {
    "id": "_rQjYaJ2bBZe"
   },
   "outputs": [
    {
     "name": "stdout",
     "output_type": "stream",
     "text": [
      "Mean Absolute % error by Holt method :  11.985\n"
     ]
    }
   ],
   "source": [
    "hw_model = Holt(cocacola[\"Sales\"]).fit()\n",
    "pred_hw = hw_model.predict(start = test.index[0],end = test.index[-1])\n",
    "print(\"Mean Absolute % error by Holt method : \",round(MAPE(pred_hw,test.Sales),3))"
   ]
  },
  {
   "cell_type": "markdown",
   "metadata": {
    "id": "dvLIkTynWXjk"
   },
   "source": [
    "**2. a) With Additive Seasonality and Additive Trend**"
   ]
  },
  {
   "cell_type": "code",
   "execution_count": 36,
   "metadata": {
    "id": "Fs_dETE-bBX3"
   },
   "outputs": [
    {
     "data": {
      "text/plain": [
       "6.988446577631033"
      ]
     },
     "execution_count": 36,
     "metadata": {},
     "output_type": "execute_result"
    }
   ],
   "source": [
    "hwe_model_add_add = ExponentialSmoothing(train[\"Sales\"],seasonal=\"add\",trend=\"add\",seasonal_periods=4,damped=True).fit()\n",
    "pred_hwe_add_add = hwe_model_add_add.predict(start = test.index[0],end = test.index[-1])\n",
    "MAPE(pred_hwe_add_add,test.Sales)"
   ]
  },
  {
   "cell_type": "markdown",
   "metadata": {
    "id": "PB7I2u9uWRP7"
   },
   "source": [
    "**2. b) With Multiplicative Seasonality and Additive Trend**"
   ]
  },
  {
   "cell_type": "code",
   "execution_count": 37,
   "metadata": {
    "id": "eCSOr4WibbzN"
   },
   "outputs": [
    {
     "data": {
      "text/plain": [
       "4.010750275465611"
      ]
     },
     "execution_count": 37,
     "metadata": {},
     "output_type": "execute_result"
    }
   ],
   "source": [
    "hwe_model_mul_add = ExponentialSmoothing(train[\"Sales\"],seasonal=\"mul\",trend=\"add\",seasonal_periods=4).fit()\n",
    "pred_hwe_mul_add = hwe_model_mul_add.predict(start = test.index[0],end = test.index[-1])\n",
    "MAPE(pred_hwe_mul_add,test.Sales)"
   ]
  },
  {
   "cell_type": "markdown",
   "metadata": {
    "id": "5nxEnPAxWKt9"
   },
   "source": [
    "## 11. Visualization of Forecasted values for Test data set using different methods"
   ]
  },
  {
   "cell_type": "code",
   "execution_count": 38,
   "metadata": {
    "id": "rgOUfeXtbbxh"
   },
   "outputs": [
    {
     "data": {
      "image/png": "[encoded data removed]",
      "text/plain": [
       "<Figure size 432x288 with 1 Axes>"
      ]
     },
     "metadata": {
      "needs_background": "light"
     },
     "output_type": "display_data"
    }
   ],
   "source": [
    "plt.plot(train.index, train[\"Sales\"], label='Train',color=\"black\")\n",
    "plt.plot(test.index, test[\"Sales\"], label='Test',color=\"blue\")\n",
    "plt.plot(pred_ses.index, pred_ses, label='Simple Exponential',color=\"green\")\n",
    "plt.plot(pred_hw.index, pred_hw, label=\"Holt-Winter's\",color=\"red\")\n",
    "plt.plot(pred_hwe_add_add.index,pred_hwe_add_add,label=\"Holt Winter's Exponential_1\",color=\"brown\")\n",
    "plt.plot(pred_hwe_mul_add.index,pred_hwe_mul_add,label=\"Holt Winter's Exponential_2\",color=\"yellow\")\n",
    "plt.legend(loc='best')\n",
    "plt.show()"
   ]
  },
  {
   "cell_type": "markdown",
   "metadata": {
    "id": "0NyWsD7fGvLR"
   },
   "source": [
    "**-------------------------------------------------------------------------------------------------------------------------------------------------------------------**"
   ]
  }
 ],
 "metadata": {
  "colab": {
   "authorship_tag": "ABX9TyNWSEEvobdiz5WKa5As62dH",
   "collapsed_sections": [],
   "name": "Forecasting_Q2_.ipynb",
   "provenance": []
  },
  "kernelspec": {
   "display_name": "Python 3",
   "language": "python",
   "name": "python3"
  },
  "language_info": {
   "codemirror_mode": {
    "name": "ipython",
    "version": 3
   },
   "file_extension": ".py",
   "mimetype": "text/x-python",
   "name": "python",
   "nbconvert_exporter": "python",
   "pygments_lexer": "ipython3",
   "version": "3.8.8"
  }
 },
 "nbformat": 4,
 "nbformat_minor": 1
}
